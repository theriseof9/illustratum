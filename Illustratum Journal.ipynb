{
 "cells": [
  {
   "cell_type": "markdown",
   "id": "cf721b1c",
   "metadata": {},
   "source": [
    "# Illustratum Journal\n",
    "### Team: pi^2 = g\n",
    "### Members: Wang Zerui, Ding Chenghao, Eng Cheng Le\n",
    "### School: NUS High School"
   ]
  },
  {
   "cell_type": "markdown",
   "id": "e4d8f176",
   "metadata": {},
   "source": [
    "## Entry 1, 20 Feburary 2023\n",
    "### Zerui\n",
    "The first journal entry for our Illustratum project!! We are thrilled to be part of this competition and to show our passion for physics and creativity. Our project is about using a website to teach a tough topic in classical mechanics.\n",
    "\n",
    "We think that the main choice for our topic should fall in the following categories:\n",
    "- classical mechanics\n",
    "- illustrated using engaging simulations and animations\n",
    "\n",
    "We chose to use a website as our medium because it has many benefits over other formats. A website can interact with users, use multimedia features, reach a wider audience, handle large-scale or long-term simulations, and provide feedback. A website also allows us to be more creative and flexible in our presentation and design.\n",
    "\n",
    "We brainstormed several possible topics for our project, such as harmonic oscillators, fluid dynamics, waves and interference, and orbital mechanics. We researched each topic and evaluated their pros and cons. We also looked at some existing websites and resources that cover these topics.\n",
    "\n",
    "After some discussion, we settled on the general field of orbital mechanics as we think that this subject is fascinating."
   ]
  },
  {
   "cell_type": "markdown",
   "id": "52a2073d",
   "metadata": {},
   "source": [
    "## Entry 2, 25 Feburary 2023\n",
    "### Zerui\n",
    "In this second entry of our Illustratum project journal, we will discuss how the idea of exploring the three-body problem came about and the challenges encountered along the way.\n",
    "\n",
    "After extensive discussions, the subject of orbital mechanics, which involves the movement of celestial bodies influenced by gravity, was chosen. The decision to focus specifically on the three-body problem stemmed from its intriguing complexity and beauty. The aim was to deepen our understanding of this topic and share the knowledge with others, showcasing the awe-inspiring wonder and enigmatic nature of physics to ignite curiosity in the audience.\n",
    "\n",
    "However, selecting the three-body problem as the project's topic presented challenges. Factors such as difficulty level, relevance, feasibility, and originality had to be carefully considered. Extensive research and tests were conducted to comprehend the intricacies of the three-body problem and its practical applications.\n",
    "\n",
    "Initially, fluid dynamics was considered as the project's focus, enticed by the captivating behavior of fluids under various conditions. The idea was to demonstrate fluid dynamics through interactive simulations and animations on a website."
   ]
  },
  {
   "cell_type": "markdown",
   "id": "4e9db2bf",
   "metadata": {},
   "source": [
    "Yet, it soon became apparent that fluid dynamics was too intricate and impractical for the project's scope. The field involved complex mathematical concepts and physics, such as partial differential equations, Navier-Stokes equations, Reynolds numbers, and turbulence. Moreover, accurately simulating and realistically representing fluid dynamics demanded substantial computational power and time, rendering a website inadequate for its demonstration.\n",
    "\n",
    "Consequently, the focus shifted to orbital mechanics, which offered greater feasibility while remaining challenging and captivating. The belief was that interactive simulations and animations on a website could effectively convey the concepts of orbital mechanics.\n",
    "\n",
    "Exploring orbital mechanics led to the realization of its close connection to the three-body problem. It was discovered that orbital mechanics investigates the movement of celestial bodies in response to gravitational forces. Techniques for modeling and predicting the orbits of planets, moons, stars, and other celestial entities using orbital mechanics were explored. The research unveiled the utilization of Newton's laws of motion, universal gravitation, Kepler's laws of planetary motion, conic sections, and numerical integration for solving orbital mechanics problems.\n",
    "\n",
    "The allure and practical applications of the three-body problem within the realm of orbital mechanics further captivated attention. Thus, the decision was made to center the project around the three-body problem, showcasing examples and simulations using JavaScript and HTML5 Canvas on the website.\n",
    "\n",
    "Currently, the team is diligently working on website development, utilizing HTML, CSS, JavaScript, and various other web technologies. Additionally, efforts are devoted to crafting engaging content for each section, encompassing informative text, captivating images, illustrative diagrams, dynamic animations, and immersive simulations. The completion of the project is eagerly anticipated, awaiting the opportunity to share it with the audience."
   ]
  },
  {
   "cell_type": "markdown",
   "id": "664ae67c",
   "metadata": {},
   "source": [
    "## Entry 3, 15 March 2023\n",
    "### Zerui\n",
    "This is the third entry in my Illustratum project journal, where I will discuss the three-body problem in more detail and outline my plans for presenting it on our website.\n",
    "\n",
    "The three-body problem is a well-known physics problem that explores how three objects move when influenced by gravity. It's a challenging problem because there isn't a single formula that works for all cases, and the motion of the objects can be unpredictable and chaotic. Studying the three-body problem is important in astronomy because it helps us understand how planets, moons, stars, and other celestial bodies orbit each other.\n",
    "\n",
    "I was fascinated by the three-body problem and its applications in orbital mechanics. Orbital mechanics is the study of how celestial bodies move due to gravity. It helps us model and predict the paths of planets, moons, stars, and other celestial bodies. We can use Newton's laws of motion and universal gravitation, Kepler's laws of planetary motion, shapes called conic sections, and numerical methods to solve problems in orbital mechanics.\n",
    "\n",
    "For my project, I decided to focus on the three-body problem as the main topic. On our website, I want to show examples and simulations of the three-body problem using JavaScript and HTML5 Canvas. Here are some examples I plan to include:\n",
    "\n",
    "1. The figure-eight orbit: This is a special solution of the three-body problem discovered in 1993. It shows that three objects with the same mass can orbit each other in a figure-eight shape without crashing or flying away. Although this solution is unstable and easily disturbed by small changes, I will demonstrate it through animations and explain how numerical methods were used to find it.\n",
    "\n",
    "2. The Pythagorean problem: Another special solution discovered in 1767 by Euler. It shows that three objects with mass ratios of 3:4:5 can orbit each other in a right triangle shape without colliding or escaping. Like the figure-eight orbit, this solution is also unstable and sensitive to perturbations. I will create animations and describe how analytical methods were employed to uncover this solution.\n",
    "\n",
    "3. The restricted three-body problem: This is a simplified version of the three-body problem where one object is much smaller than the others. By neglecting the gravitational influence of the small object, we can treat the problem as a two-body scenario with an external force. This approach is useful for modeling spacecraft or satellite motion around large bodies like Earth and Moon. Users will be able to adjust parameters and observe how they affect the orbit of the smaller object through a simulation.\n",
    "\n",
    "4. The n-body problem: This is a more general version of the three-body problem where gravity influences interactions among multiple objects. For cases with more than two objects, there isn't a general analytical solution, so we rely on numerical methods to approximate their behavior. The n-body problem is applicable to modeling the motion of many celestial bodies, such as star clusters, galaxies, and solar systems. I will provide a simulation where users can create their own n-body systems and observe their evolution over time.\n",
    "\n",
    "Currently, I am developing the website using HTML, CSS, JavaScript, and other web technologies. I am excited to complete the project and share it with our audience."
   ]
  },
  {
   "attachments": {},
   "cell_type": "markdown",
   "id": "102d32bf",
   "metadata": {},
   "source": [
    "## Entry 4, 18 March 2023\n",
    "### Chenghao and Cheng Le\n",
    "While Zerui works on developing the simulation, Cheng Le and I focus on writing the explanation for the websites. This is where we start to do our extensive research on various aspects of the Three Body Problem: googling for resources, reading them, not fully understanding them, then googling again, and so on. It took quite a few articles to fully grasp what the Three Body Problem is and the complexities surrounding it, especially with the rather complicated math behind it.\n",
    "\n",
    "For instance, it took a lot of google searches to finally understand “Why is the Three Body Problem chaotic?”.  We first had to understand what it means for something to be chaotic; which was, after some research, that you can’t predict the future given the current state. This sounds simple, but it did in fact took quite a lot of reading to understand this, especially with the Wikipedia page filled with lots of more technical terms. (We did, of course, look at other websites as well.) But that doesn’t really answer our original question. So we did a simple google search of it and did find some results (“the equations are no longer solvable”), but how those equations were no longer solvable and what that exactly meant still remained quite a mystery to us, as we did not have much exposure to chaos theory before. This kind of searching carried on for quite some time before we were finally able to understand and piece together much of the information.\n",
    "\n",
    "Another thing that made understanding the problem difficult was the rather large amount of complicated math behind it. In most articles explaining the Three Body Problem, mathematical equations would eventually surface at some point or another, and it was really hard to understand those equations with our limited math knowledge, especially that of vectors and differential equations. Thus, we decided not to try and understand the math yet, but just gain the intuition for the various equations and roughly what they mean.\n",
    "\n",
    "Now that we have some idea of what the Three Body Problem is, we are ready to begin writing supporting explanations for the website."
   ]
  },
  {
   "cell_type": "markdown",
   "id": "0407e1ef",
   "metadata": {},
   "source": [
    "## Entry 5, 1 June 2023\n",
    "### Zerui\n",
    "This is the fourth entry of my Illustratum project journal. In this entry, I will discuss the problems and challenges I encountered while working on the project and how I attempted to solve them.\n",
    "\n",
    "One of the main difficulties I faced was locating reliable and accessible sources of information about the three-body problem and its applications. Ensuring the accuracy, relevance, and comprehensibility of the content for my audience was crucial. To avoid plagiarism and properly credit the original authors, I extensively searched for books, articles, etc that covered the three-body problem and its examples and simulations. By thoroughly studying and synthesizing the main points from these sources, I aimed to present the information in my own words. Additionally, I made sure to cite and provide links to these sources on my website for further reference.\n",
    "\n",
    "Designing and developing the website, along with its features, presented another challenge. I strived to create an appealing, user-friendly, responsive, and interactive website. Compatibility across different browsers, devices, and screen sizes was also essential. Utilizing HTML, CSS, JavaScript, and other web technologies, I worked on the layout, style, and functionality of the website. Testing and debugging were conducted using tools like Chrome DevTools, Firefox Developer Tools, and Visual Studio Code.\n",
    "\n",
    "Creating and testing animations and simulations of the three-body problem and its examples proved to be a further obstacle. I aimed for accurate, realistic, smooth, and engaging visuals. Interactivity and customization options for the users were also important considerations. To achieve these goals, I employed JavaScript and HTML5 Canvas for animation and simulation development.\n",
    "\n",
    "Hmm, I hope I can proceed and complete this project successfully, it is a rather daunting task ahead. :("
   ]
  },
  {
   "attachments": {},
   "cell_type": "markdown",
   "id": "93d3a7ca",
   "metadata": {},
   "source": [
    "## Entry 6, 3 June 2023\n",
    "We came up with a sketch of what the website will look like, and we will explain each section below:\n",
    "\n",
    "Section 1: Introduction\n",
    "\n",
    "Section 2: The Two Body Problem\n",
    "\n",
    "Section 3: Why the Three Body Problem is chaotic\n",
    "\n",
    "Section 4: Some special case solutions for the Three Body Problem\n",
    "\n",
    "We obviously need to have some form of introduction to the Three Body Problem in a way that is interesting and presents it as part of our everyday life, to make it more relatable to our audience. This took some trial and error, as well as inspiration from various online resources. In the end, we decided to do so through the Earth-Moon-Sun system and the Earth-Jupiter-Sun system. These represent different solutions to the three body system, so we hope to pique the interest of our audience through it.\n",
    "\n",
    "We also felt it was necessary to give a bit of historical background to this problem as it does have quite an interesting one. In particular, one of the articles we read while researching earlier was that it could be used in maritime navigation. That felt really interesting to me as I never knew such theoretical problems could have practical uses! I hope the audience would feel the same way.\n",
    "\n",
    "Next, we decided to add a section on the Two Body Problem as it felt that the extension to a three body system would be more natural from there. Also, it would make understanding what makes the Three Body Problem chaotic easier, as we can explain the differences in the equations of the Two Body and Three Body Problem.\n",
    "\n",
    "The Three Body Problem, being what our website is about, definitely needs some explanation. We thus split it into two parts: the first to explain why it is chaotic, and the second to give a taste of what the different families of solutions look like (which is also where the simulation would play a big part in showcasing them).\n",
    "\n",
    "The sketch of the website is now ready, and we will begin with our actual explanations."
   ]
  },
  {
   "cell_type": "markdown",
   "id": "5b772d61",
   "metadata": {},
   "source": [
    "## Entry 7, 20 June 2023\n",
    "### Zerui\n",
    "\n",
    "This is the fifth entry of my Illustratum project journal. In this entry, I will share how I overcame the challenge of creating and testing the animations and simulations of the three-body problem and its examples.\n",
    "\n",
    "I encountered numerous difficulties and frustrations while working on the animations and simulations of the three-body problem and its examples. I had to tackle various technical issues, including coding errors, performance concerns, compatibility problems, and accuracy challenges. Additionally, I had to address conceptual issues such as comprehending the physics and mathematics underlying the three-body problem, selecting suitable parameters and methods for each example, and designing user interfaces and interactions for the simulations.\n",
    "\n",
    "To overcome these challenges, I sought help and feedback from different sources, including teachers, mentors, peers, and online communities. I also referred to various resources such as books, articles, websites, videos, podcasts, online courses, and tutorials. The knowledge and insights I gained from these sources proved invaluable as I applied their suggestions and solutions to my project.\n",
    "\n",
    "In my quest for improvement, I experimented with different approaches and techniques for enhancing the animations and simulations. I explored various libraries and frameworks, such as p5.js, Matter.js, Physics.js, and Verlet.js, to determine which one best suited my requirements. I also experimented with different numerical methods like Euler's method, Runge-Kutta method, Verlet integration, and Barnes-Hut algorithm to find the most effective approach. Additionally, I explored different visualization and interaction options, such as utilizing various colors, shapes, sizes, trails, labels, buttons, sliders, inputs, and outputs.\n",
    "\n",
    "After considerable trial and error, I finally succeeded in creating and testing the animations and simulations of the three-body problem and its examples. I felt a sense of great satisfaction and pride in this accomplishment. I believe that my animations and simulations are accurate, realistic, smooth, and engaging. Furthermore, I am confident that they offer adjustability, interactivity, and customization options for the users.\n",
    "\n",
    "I eagerly anticipate showcasing my animations and simulations on the website and sharing them with my audience. My goal is to help the audience understand and appreciate the three-body problem and its applications in orbital mechanics. I also hope that my animations and simulations will spark curiosity and wonder in the audience."
   ]
  },
  {
   "attachments": {},
   "cell_type": "markdown",
   "id": "2b187db5",
   "metadata": {},
   "source": [
    "## Entry 8, 26 June 2023\n",
    "### Chenghao\n",
    "Finally, all our explanations are done! That was indeed not an easy task, and I’m glad to have finished it. \n",
    "\n",
    "The main challenge while writing our explanations was that it is meant for a wide range of audiences, who may not necessarily be interested in physics. As such, our explanations have to be engaging yet clear and succinct. \n",
    "\n",
    "Something I tried to do in order to achieve that was to type it as if I was explaining it to someone in primary school, keeping in mind what they find interesting (which is usually not physics, but interesting stories/the animations). So, most of the website would be based on the simulation to make it engaging for visitors, and for the more technical sections requiring some math, we would try to make it as easy to understand as possible, and fun to read. \n",
    "\n",
    "In all, this was a very enriching and fulfilling journey as we had the chance to explore chaos theory, a branch of physics that we were very interested in, but never really got into before due to the complexities surrounding it. This competition really got us to explore things out of our comfort zone, and we are glad to be able to showcase our final product. \n",
    "\n",
    "I hope that our audiences would gain a much deeper understanding of the Three Body Problem through our website, all while having fun!"
   ]
  },
  {
   "cell_type": "markdown",
   "id": "7a6cb6e6",
   "metadata": {},
   "source": [
    "## Entry 9, 30 June 2023\n",
    "### Zerui\n",
    "This marks the final entry of my Illustratum project journal. Within this entry, I will discuss the personal journey of overcoming design challenges and making necessary refinements to my website and project.\n",
    "\n",
    "Ensuring a polished and professional appearance for both my website and project was of utmost importance to me. I strived to establish a consistent and visually appealing style while maintaining a logical structure and seamless navigation. My primary objective was to eliminate any errors, bugs, or glitches that may have hindered the user experience.\n",
    "\n",
    "To achieve these goals, I utilized various tools and techniques throughout the design process. HTML, CSS, JavaScript, and other web technologies played a significant role in creating the layout, style, and functionality of my website. Rigorous testing and debugging were carried out using tools like Chrome DevTools, Firefox Developer Tools, Visual Studio Code, to identify and address errors, performance issues, compatibility concerns, accessibility considerations, and responsiveness challenges.\n",
    "\n",
    "As I completed the design touch-ups for my website and project, a sense of satisfaction and admiration accompanied the final outcome. I firmly believe that the polished and professional appearance I achieved throughout my website and project is evident. The consistent and visually appealing style, clear structure, and intuitive navigation greatly enhance the overall user experience. Furthermore, I am confident that I have addressed any potential errors, bugs, or glitches.\n",
    "\n",
    "I am eagerly anticipating the launch of my website and the opportunity to present my project to both the judges and the audience. My aspiration is for them to appreciate and connect with my website and project in the same manner that I do. I hope to provide them with a valuable learning experience while simultaneously evoking a sense of enjoyment and curiosity.\n",
    "\n",
    ":D"
   ]
  }
 ],
 "metadata": {
  "kernelspec": {
   "display_name": "Python 3 (ipykernel)",
   "language": "python",
   "name": "python3"
  },
  "language_info": {
   "codemirror_mode": {
    "name": "ipython",
    "version": 3
   },
   "file_extension": ".py",
   "mimetype": "text/x-python",
   "name": "python",
   "nbconvert_exporter": "python",
   "pygments_lexer": "ipython3",
   "version": "3.10.9"
  }
 },
 "nbformat": 4,
 "nbformat_minor": 5
}
